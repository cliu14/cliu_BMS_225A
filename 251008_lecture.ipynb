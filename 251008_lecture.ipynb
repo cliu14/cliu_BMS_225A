{
  "nbformat": 4,
  "nbformat_minor": 0,
  "metadata": {
    "colab": {
      "provenance": [],
      "authorship_tag": "ABX9TyNH1P02YFCHnYc4qJ64ndPx",
      "include_colab_link": true
    },
    "kernelspec": {
      "name": "python3",
      "display_name": "Python 3"
    },
    "language_info": {
      "name": "python"
    }
  },
  "cells": [
    {
      "cell_type": "markdown",
      "metadata": {
        "id": "view-in-github",
        "colab_type": "text"
      },
      "source": [
        "<a href=\"https://colab.research.google.com/github/cliu14/cliu_BMS_225A/blob/main/251008_lecture.ipynb\" target=\"_parent\"><img src=\"https://colab.research.google.com/assets/colab-badge.svg\" alt=\"Open In Colab\"/></a>"
      ]
    },
    {
      "cell_type": "code",
      "execution_count": 2,
      "metadata": {
        "colab": {
          "base_uri": "https://localhost:8080/"
        },
        "id": "WEQazVW5mHZl",
        "outputId": "97ec0c30-5ce8-4b41-a94c-2f30bc5c21f5"
      },
      "outputs": [
        {
          "output_type": "stream",
          "name": "stdout",
          "text": [
            "KRAS\n"
          ]
        }
      ],
      "source": [
        "gene_name = 'KRAS'\n",
        "print(gene_name)"
      ]
    },
    {
      "cell_type": "markdown",
      "source": [
        "Informative names\n",
        "\n",
        "integers\n",
        "floating point\n",
        "strings\n",
        "\n",
        "cannot start with a number\n",
        "  personal preferences: underscore _\n"
      ],
      "metadata": {
        "id": "AI49qHUomR2E"
      }
    },
    {
      "cell_type": "code",
      "source": [
        "x = 5\n",
        "x = x+2\n",
        "gene_name = gene_name+'>'\n",
        "x = gene_name*x\n",
        "print(x)"
      ],
      "metadata": {
        "colab": {
          "base_uri": "https://localhost:8080/"
        },
        "id": "SSA3IkhPmRc3",
        "outputId": "96be1869-c5f5-4c7f-d5e3-84f355037d47"
      },
      "execution_count": 27,
      "outputs": [
        {
          "output_type": "stream",
          "name": "stdout",
          "text": [
            "KRAS>>>>>>>>>>>>KRAS>>>>>>>>>>>>KRAS>>>>>>>>>>>>KRAS>>>>>>>>>>>>KRAS>>>>>>>>>>>>KRAS>>>>>>>>>>>>KRAS>>>>>>>>>>>>\n"
          ]
        }
      ]
    },
    {
      "cell_type": "markdown",
      "source": [
        "flow control\n",
        "\n",
        "boolean logic gaitng\n",
        "if then; if not then\n",
        "\n",
        "commands are executed under which conditions so that we can make our scripts more adaptive/general\n",
        "\n",
        "== equal to\n",
        "!= not equal to\n",
        "< less than\n",
        "> greater than\n",
        "<= less than or equal to\n",
        ">= greater than or equal to"
      ],
      "metadata": {
        "id": "YZyAljkTnah6"
      }
    },
    {
      "cell_type": "code",
      "source": [
        "gene_expression = 54\n",
        "if gene_expression <= 0:\n",
        "  print('the gene is not expressed')\n",
        "else:\n",
        "  if gene_expression>0:\n",
        "    print('the gene is expressed')\n",
        "  if gene_expression>50:\n",
        "    print('the gene is highly expressed')"
      ],
      "metadata": {
        "colab": {
          "base_uri": "https://localhost:8080/"
        },
        "id": "ebDzd_-fnYbE",
        "outputId": "f33f9950-214c-4d4b-ad4e-0434ae09860e"
      },
      "execution_count": 8,
      "outputs": [
        {
          "output_type": "stream",
          "name": "stdout",
          "text": [
            "the gene is expressed\n",
            "the gene is highly expressed\n"
          ]
        }
      ]
    },
    {
      "cell_type": "code",
      "source": [
        "gene_expression = 54\n",
        "if gene_expression <= 0:\n",
        "  print('the gene is not expressed')\n",
        "else:\n",
        "  if gene_expression>0:\n",
        "    print('the gene is expressed')\n",
        "  else:\n",
        "    if gene_expression>50:\n",
        "      print('the gene is highly expressed')"
      ],
      "metadata": {
        "colab": {
          "base_uri": "https://localhost:8080/"
        },
        "id": "aIe39Gn-pJj6",
        "outputId": "8af11be7-c8cd-4952-f847-08deef182726"
      },
      "execution_count": 10,
      "outputs": [
        {
          "output_type": "stream",
          "name": "stdout",
          "text": [
            "the gene is expressed\n"
          ]
        }
      ]
    },
    {
      "cell_type": "code",
      "source": [
        "#while loop for repetiive coode\n",
        "\n",
        "number= 3\n",
        "# iternation 1\n",
        "print(number)\n",
        "number=number+1\n",
        "\n",
        "# iteration 2\n",
        "print(number)\n",
        "number=number+1\n",
        "\n",
        "# iteration 3\n",
        "print(number)\n",
        "number=number+1\n",
        "\n",
        "# iteration 4\n",
        "print(number)\n",
        "number=number+1"
      ],
      "metadata": {
        "colab": {
          "base_uri": "https://localhost:8080/"
        },
        "id": "Uc5S8KgNpX8x",
        "outputId": "1ea9d749-4cdd-4c4c-e9d9-ae4b04315b8c"
      },
      "execution_count": 13,
      "outputs": [
        {
          "output_type": "stream",
          "name": "stdout",
          "text": [
            "3\n",
            "4\n",
            "5\n",
            "6\n"
          ]
        }
      ]
    },
    {
      "cell_type": "code",
      "source": [
        "# for loop\n",
        "# for a variable code number takign values in the range from 0 ro3 (non inclusive), some commands repeated 3 times\n",
        "for number in range(3):\n",
        "  print(number)\n",
        "\n",
        "# for loops, less computing"
      ],
      "metadata": {
        "colab": {
          "base_uri": "https://localhost:8080/"
        },
        "id": "U4d5iAk1plbR",
        "outputId": "11e3b5c4-d8d2-42d8-abfd-88d79e6968c9"
      },
      "execution_count": 14,
      "outputs": [
        {
          "output_type": "stream",
          "name": "stdout",
          "text": [
            "0\n",
            "1\n",
            "2\n"
          ]
        }
      ]
    },
    {
      "cell_type": "code",
      "source": [
        "#functions\n",
        "# into simpler parts\n",
        "\n",
        "### Dfine the function:\n",
        "def add_and_scale(x, y, scale_param = 1):\n",
        "  result = (x, y) * scale_param # remember no can add, must use *\n",
        "  return result"
      ],
      "metadata": {
        "id": "x8-tOYOkqJqQ"
      },
      "execution_count": 17,
      "outputs": []
    },
    {
      "cell_type": "code",
      "source": [
        "add_and_scale? #? opens the help window"
      ],
      "metadata": {
        "id": "u-AXhLhKrghs"
      },
      "execution_count": 22,
      "outputs": []
    },
    {
      "cell_type": "code",
      "source": [
        "#list is a list of things []\n",
        "# index positions start 0, 1, 2, ...\n",
        "\n",
        "#sets is a matrix. find the intersections {}\n",
        "\n",
        "#dictionary. maps one thing to another. eg. fruit to color {}\n",
        "# set of key to value"
      ],
      "metadata": {
        "id": "_3hQK8yPrsc8"
      },
      "execution_count": null,
      "outputs": []
    },
    {
      "cell_type": "code",
      "source": [
        "import numpy as np\n",
        "import pandas as pd\n"
      ],
      "metadata": {
        "id": "ZYvSW2-wtSA-"
      },
      "execution_count": 28,
      "outputs": []
    },
    {
      "cell_type": "markdown",
      "source": [
        "numpy does math. good for arrays\n",
        "\n",
        "pandas for data analysis\n",
        "\n",
        "seaborn is for data visuals\n",
        "\n",
        "scikit-learning for machine learning library\n",
        "\n",
        "scanpy for analyzing single cell gene expression data\n",
        "  has all the packages"
      ],
      "metadata": {
        "id": "4MOUE-UxxtyH"
      }
    },
    {
      "cell_type": "markdown",
      "source": [
        "Pandas for table shaped data\n",
        "bigger spreadsheets and more reproducible and scalable\n",
        "\n",
        "pd.read directly from excel\n",
        "\n",
        "series and data frame\n",
        "  series is index and one column\n",
        "  data frame is index and many columns\n",
        "  "
      ],
      "metadata": {
        "id": "UJpbyiBR1eOB"
      }
    }
  ]
}